{
 "cells": [
  {
   "cell_type": "code",
   "execution_count": 24,
   "id": "19362414",
   "metadata": {
    "ExecuteTime": {
     "end_time": "2022-06-15T20:02:19.112941Z",
     "start_time": "2022-06-15T20:02:19.102780Z"
    }
   },
   "outputs": [],
   "source": [
    "#required libraries\n",
    "from bs4 import BeautifulSoup\n",
    "import os\n",
    "import pandas as pd\n",
    "import requests\n",
    "from bs4 import BeautifulSoup"
   ]
  },
  {
   "cell_type": "code",
   "execution_count": 25,
   "id": "cc0ac368",
   "metadata": {
    "ExecuteTime": {
     "end_time": "2022-06-15T20:02:20.692309Z",
     "start_time": "2022-06-15T20:02:19.494418Z"
    }
   },
   "outputs": [],
   "source": [
    "#URL for the IMDb Oscar Winning Movies\n",
    "url = 'https://www.imdb.com/search/title/?count=100&groups=oscar_best_picture_winners&sort=year%2Cdesc&ref_=nv_ch_osc'\n",
    "response = requests.get(url)\n",
    "\n",
    "# Save HTML to file\n",
    "with open(\"imdb_oscar_winning_films.html\", mode='wb') as file:\n",
    "    file.write(response.content)"
   ]
  },
  {
   "cell_type": "code",
   "execution_count": 26,
   "id": "55b63e54",
   "metadata": {
    "ExecuteTime": {
     "end_time": "2022-06-15T20:02:21.365550Z",
     "start_time": "2022-06-15T20:02:20.695218Z"
    }
   },
   "outputs": [],
   "source": [
    "#using the beautifulsoup library for the web-scraping\n",
    "soup = BeautifulSoup(response.content, 'lxml')"
   ]
  },
  {
   "cell_type": "code",
   "execution_count": 27,
   "id": "a7985f1e",
   "metadata": {
    "ExecuteTime": {
     "end_time": "2022-06-15T20:02:21.517872Z",
     "start_time": "2022-06-15T20:02:21.365550Z"
    }
   },
   "outputs": [],
   "source": [
    "#data of interest\n",
    "movie_audience_rating = []\n",
    "movie_name = []\n",
    "movie_link_imdb = []\n",
    "movie_meta_rating = []\n",
    "number_of_votes = []\n",
    "\n",
    "#get the main page div tag content\n",
    "divTag = soup.find_all(\"div\", {\"class\":\"lister-item mode-advanced\"})\n",
    "\n",
    "#loop over to extract all required information\n",
    "for rating in divTag:\n",
    "    rate = rating.find('div',class_='inline-block ratings-imdb-rating').find('strong').contents[:]\n",
    "    name = rating.find('div',class_='lister-item-content').find('a').contents[:]\n",
    "    link = 'https://www.imdb.com/' + rating.find('div',class_='lister-item-content').find('a').get('href')\n",
    "    meta_rate = rating.find('div',class_='inline-block ratings-metascore')\n",
    "    votes = rating.find('p',class_=\"sort-num_votes-visible\").contents[3].contents[0].strip().replace(',','')\n",
    "    \n",
    "    \"\"\"\n",
    "    few of the movies from early days don't have critic meta score \n",
    "    and soup will return None for this movies. To avoid the failure \n",
    "    of the find function we confirm the rating is available if it's \n",
    "    not available then we set it to the zero\n",
    "    \"\"\"\n",
    "    \n",
    "    if meta_rate != None:\n",
    "        meta_rate =  meta_rate.find('span').contents[:]\n",
    "        movie_meta_rating.append(meta_rate[0].replace(' ',''))\n",
    "    else:\n",
    "        movie_meta_rating.append(str(0))\n",
    "        \n",
    "    movie_audience_rating.append(rate[0])\n",
    "    movie_name.append(name[0])\n",
    "    movie_link_imdb.append(link)\n",
    "    number_of_votes.append(votes)"
   ]
  },
  {
   "cell_type": "code",
   "execution_count": 28,
   "id": "8512d80b",
   "metadata": {
    "ExecuteTime": {
     "end_time": "2022-06-15T20:02:21.537327Z",
     "start_time": "2022-06-15T20:02:21.521777Z"
    }
   },
   "outputs": [],
   "source": [
    "#create a list of all data of interest and convert it to the data frame\n",
    "movie_df = list(zip(movie_name, movie_audience_rating, number_of_votes, movie_meta_rating, movie_link_imdb))\n",
    "\n",
    "movie_df = pd.DataFrame(movie_df)\n",
    "movie_df.columns = ['movie_name', 'audience_rating', 'number_of_votes', 'movie_meta_rating', 'movie_link_imdb']"
   ]
  },
  {
   "cell_type": "code",
   "execution_count": 29,
   "id": "fc83833d",
   "metadata": {
    "ExecuteTime": {
     "end_time": "2022-06-15T20:04:18.688938Z",
     "start_time": "2022-06-15T20:02:21.539416Z"
    }
   },
   "outputs": [],
   "source": [
    "#another 2 data-set of interest\n",
    "all_movie_genres = []\n",
    "number_of_critic_review = []\n",
    "\n",
    "for url in movie_df['movie_link_imdb']:\n",
    "    response = requests.get(url)\n",
    "    soup = BeautifulSoup(response.content, 'lxml')\n",
    "    divTag = soup.find_all(\"li\", {\"class\":\"ipc-inline-list__item ipc-chip__text\"})\n",
    "    critic_review = soup.find_all(\"a\", {\"class\":\"ipc-link ipc-link--baseAlt ipc-link--touch-target sc-124be030-2 eshTwQ isReview\"})\n",
    "    movie_genres = []\n",
    "    for rating in divTag:\n",
    "        movie_genres.append(rating.contents[0])\n",
    "    all_movie_genres.append(movie_genres)\n",
    "    \n",
    "    critic_score =  critic_review[1].find('span', class_='score').contents[0]\n",
    "    \n",
    "    \"\"\"\n",
    "    If rating critic review is more than 1000 than IMDb uses K short form\n",
    "    to convert this K to integer we utilizes this loop\n",
    "    \"\"\"\n",
    "    \n",
    "    if critic_score != None:\n",
    "        if critic_score[-1] == 'K':\n",
    "            critic_score = critic_score[:-1]+'000'\n",
    "        number_of_critic_review.append(critic_score)\n",
    "    else:\n",
    "        movie_meta_rating.append(str(0))"
   ]
  },
  {
   "cell_type": "code",
   "execution_count": 30,
   "id": "a832b58f",
   "metadata": {
    "ExecuteTime": {
     "end_time": "2022-06-15T20:04:18.701175Z",
     "start_time": "2022-06-15T20:04:18.688938Z"
    }
   },
   "outputs": [],
   "source": [
    "#add these data-set to movie_df dataframe\n",
    "\n",
    "movie_df.insert(5, \"movie_genres\", all_movie_genres[:], True)\n",
    "movie_df.insert(4, \"number_critic_review\", number_of_critic_review[:], True)"
   ]
  },
  {
   "cell_type": "code",
   "execution_count": 31,
   "id": "da9fbc01",
   "metadata": {
    "ExecuteTime": {
     "end_time": "2022-06-15T20:04:18.716567Z",
     "start_time": "2022-06-15T20:04:18.704906Z"
    }
   },
   "outputs": [
    {
     "name": "stdout",
     "output_type": "stream",
     "text": [
      "movie_name               object\n",
      "audience_rating         float64\n",
      "number_of_votes           int32\n",
      "movie_meta_rating         int32\n",
      "number_critic_review      int32\n",
      "movie_link_imdb          object\n",
      "movie_genres             object\n",
      "dtype: object\n"
     ]
    }
   ],
   "source": [
    "#change the datatype of each column as required\n",
    "\n",
    "convert_dict = {'movie_name': str,\n",
    "                'audience_rating': float,\n",
    "                'number_of_votes': int,\n",
    "                'movie_meta_rating': int,\n",
    "                'number_critic_review': int,\n",
    "               }\n",
    "  \n",
    "movie_df = movie_df.astype(convert_dict)\n",
    "print(movie_df.dtypes)"
   ]
  },
  {
   "cell_type": "code",
   "execution_count": 32,
   "id": "af5ffa59",
   "metadata": {
    "ExecuteTime": {
     "end_time": "2022-06-15T20:04:18.763979Z",
     "start_time": "2022-06-15T20:04:18.719580Z"
    }
   },
   "outputs": [
    {
     "data": {
      "text/html": [
       "<div>\n",
       "<style scoped>\n",
       "    .dataframe tbody tr th:only-of-type {\n",
       "        vertical-align: middle;\n",
       "    }\n",
       "\n",
       "    .dataframe tbody tr th {\n",
       "        vertical-align: top;\n",
       "    }\n",
       "\n",
       "    .dataframe thead th {\n",
       "        text-align: right;\n",
       "    }\n",
       "</style>\n",
       "<table border=\"1\" class=\"dataframe\">\n",
       "  <thead>\n",
       "    <tr style=\"text-align: right;\">\n",
       "      <th></th>\n",
       "      <th>movie_name</th>\n",
       "      <th>audience_rating</th>\n",
       "      <th>number_of_votes</th>\n",
       "      <th>movie_meta_rating</th>\n",
       "      <th>number_critic_review</th>\n",
       "      <th>movie_link_imdb</th>\n",
       "      <th>movie_genres</th>\n",
       "    </tr>\n",
       "  </thead>\n",
       "  <tbody>\n",
       "    <tr>\n",
       "      <th>0</th>\n",
       "      <td>CODA</td>\n",
       "      <td>8.0</td>\n",
       "      <td>112996</td>\n",
       "      <td>74</td>\n",
       "      <td>246</td>\n",
       "      <td>https://www.imdb.com//title/tt10366460/</td>\n",
       "      <td>[Comedy, Drama, Music]</td>\n",
       "    </tr>\n",
       "    <tr>\n",
       "      <th>1</th>\n",
       "      <td>Nomadland</td>\n",
       "      <td>7.3</td>\n",
       "      <td>152313</td>\n",
       "      <td>93</td>\n",
       "      <td>392</td>\n",
       "      <td>https://www.imdb.com//title/tt9770150/</td>\n",
       "      <td>[Drama]</td>\n",
       "    </tr>\n",
       "    <tr>\n",
       "      <th>2</th>\n",
       "      <td>Parasite</td>\n",
       "      <td>8.5</td>\n",
       "      <td>750618</td>\n",
       "      <td>96</td>\n",
       "      <td>602</td>\n",
       "      <td>https://www.imdb.com//title/tt6751668/</td>\n",
       "      <td>[Comedy, Drama, Thriller]</td>\n",
       "    </tr>\n",
       "    <tr>\n",
       "      <th>3</th>\n",
       "      <td>Green Book</td>\n",
       "      <td>8.2</td>\n",
       "      <td>467592</td>\n",
       "      <td>69</td>\n",
       "      <td>422</td>\n",
       "      <td>https://www.imdb.com//title/tt6966692/</td>\n",
       "      <td>[Biography, Comedy, Drama]</td>\n",
       "    </tr>\n",
       "    <tr>\n",
       "      <th>4</th>\n",
       "      <td>Shape of Water: Das Flüstern des Wassers</td>\n",
       "      <td>7.3</td>\n",
       "      <td>410678</td>\n",
       "      <td>87</td>\n",
       "      <td>1000</td>\n",
       "      <td>https://www.imdb.com//title/tt5580390/</td>\n",
       "      <td>[Drama, Fantasy, Romance]</td>\n",
       "    </tr>\n",
       "    <tr>\n",
       "      <th>...</th>\n",
       "      <td>...</td>\n",
       "      <td>...</td>\n",
       "      <td>...</td>\n",
       "      <td>...</td>\n",
       "      <td>...</td>\n",
       "      <td>...</td>\n",
       "      <td>...</td>\n",
       "    </tr>\n",
       "    <tr>\n",
       "      <th>90</th>\n",
       "      <td>Pioniere des wilden Westens</td>\n",
       "      <td>5.9</td>\n",
       "      <td>6183</td>\n",
       "      <td>70</td>\n",
       "      <td>41</td>\n",
       "      <td>https://www.imdb.com//title/tt0021746/</td>\n",
       "      <td>[Drama, Western]</td>\n",
       "    </tr>\n",
       "    <tr>\n",
       "      <th>91</th>\n",
       "      <td>Im Westen nichts Neues</td>\n",
       "      <td>8.1</td>\n",
       "      <td>60986</td>\n",
       "      <td>91</td>\n",
       "      <td>97</td>\n",
       "      <td>https://www.imdb.com//title/tt0020629/</td>\n",
       "      <td>[Drama, War]</td>\n",
       "    </tr>\n",
       "    <tr>\n",
       "      <th>92</th>\n",
       "      <td>The Broadway Melody</td>\n",
       "      <td>5.6</td>\n",
       "      <td>7222</td>\n",
       "      <td>0</td>\n",
       "      <td>40</td>\n",
       "      <td>https://www.imdb.com//title/tt0019729/</td>\n",
       "      <td>[Drama, Musical, Romance]</td>\n",
       "    </tr>\n",
       "    <tr>\n",
       "      <th>93</th>\n",
       "      <td>Flügel aus Stahl</td>\n",
       "      <td>7.6</td>\n",
       "      <td>12852</td>\n",
       "      <td>0</td>\n",
       "      <td>95</td>\n",
       "      <td>https://www.imdb.com//title/tt0018578/</td>\n",
       "      <td>[Drama, Romance, War]</td>\n",
       "    </tr>\n",
       "    <tr>\n",
       "      <th>94</th>\n",
       "      <td>Sonnenaufgang</td>\n",
       "      <td>8.1</td>\n",
       "      <td>50759</td>\n",
       "      <td>0</td>\n",
       "      <td>123</td>\n",
       "      <td>https://www.imdb.com//title/tt0018455/</td>\n",
       "      <td>[Drama, Romance]</td>\n",
       "    </tr>\n",
       "  </tbody>\n",
       "</table>\n",
       "<p>95 rows × 7 columns</p>\n",
       "</div>"
      ],
      "text/plain": [
       "                                  movie_name  audience_rating  \\\n",
       "0                                       CODA              8.0   \n",
       "1                                  Nomadland              7.3   \n",
       "2                                   Parasite              8.5   \n",
       "3                                 Green Book              8.2   \n",
       "4   Shape of Water: Das Flüstern des Wassers              7.3   \n",
       "..                                       ...              ...   \n",
       "90               Pioniere des wilden Westens              5.9   \n",
       "91                    Im Westen nichts Neues              8.1   \n",
       "92                       The Broadway Melody              5.6   \n",
       "93                          Flügel aus Stahl              7.6   \n",
       "94                             Sonnenaufgang              8.1   \n",
       "\n",
       "    number_of_votes  movie_meta_rating  number_critic_review  \\\n",
       "0            112996                 74                   246   \n",
       "1            152313                 93                   392   \n",
       "2            750618                 96                   602   \n",
       "3            467592                 69                   422   \n",
       "4            410678                 87                  1000   \n",
       "..              ...                ...                   ...   \n",
       "90             6183                 70                    41   \n",
       "91            60986                 91                    97   \n",
       "92             7222                  0                    40   \n",
       "93            12852                  0                    95   \n",
       "94            50759                  0                   123   \n",
       "\n",
       "                            movie_link_imdb                movie_genres  \n",
       "0   https://www.imdb.com//title/tt10366460/      [Comedy, Drama, Music]  \n",
       "1    https://www.imdb.com//title/tt9770150/                     [Drama]  \n",
       "2    https://www.imdb.com//title/tt6751668/   [Comedy, Drama, Thriller]  \n",
       "3    https://www.imdb.com//title/tt6966692/  [Biography, Comedy, Drama]  \n",
       "4    https://www.imdb.com//title/tt5580390/   [Drama, Fantasy, Romance]  \n",
       "..                                      ...                         ...  \n",
       "90   https://www.imdb.com//title/tt0021746/            [Drama, Western]  \n",
       "91   https://www.imdb.com//title/tt0020629/                [Drama, War]  \n",
       "92   https://www.imdb.com//title/tt0019729/   [Drama, Musical, Romance]  \n",
       "93   https://www.imdb.com//title/tt0018578/       [Drama, Romance, War]  \n",
       "94   https://www.imdb.com//title/tt0018455/            [Drama, Romance]  \n",
       "\n",
       "[95 rows x 7 columns]"
      ]
     },
     "execution_count": 32,
     "metadata": {},
     "output_type": "execute_result"
    }
   ],
   "source": [
    "#Final DataFrame\n",
    "movie_df"
   ]
  },
  {
   "cell_type": "code",
   "execution_count": null,
   "id": "b46f92bb",
   "metadata": {},
   "outputs": [],
   "source": []
  }
 ],
 "metadata": {
  "kernelspec": {
   "display_name": "Python 3",
   "language": "python",
   "name": "python3"
  },
  "language_info": {
   "codemirror_mode": {
    "name": "ipython",
    "version": 3
   },
   "file_extension": ".py",
   "mimetype": "text/x-python",
   "name": "python",
   "nbconvert_exporter": "python",
   "pygments_lexer": "ipython3",
   "version": "3.8.8"
  },
  "nbTranslate": {
   "displayLangs": [
    "*"
   ],
   "hotkey": "alt-t",
   "langInMainMenu": true,
   "sourceLang": "en",
   "targetLang": "fr",
   "useGoogleTranslate": true
  },
  "toc": {
   "base_numbering": 1,
   "nav_menu": {},
   "number_sections": true,
   "sideBar": true,
   "skip_h1_title": false,
   "title_cell": "Table of Contents",
   "title_sidebar": "Contents",
   "toc_cell": false,
   "toc_position": {},
   "toc_section_display": true,
   "toc_window_display": false
  }
 },
 "nbformat": 4,
 "nbformat_minor": 5
}
